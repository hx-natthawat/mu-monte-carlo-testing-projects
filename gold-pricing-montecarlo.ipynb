{
 "cells": [
  {
   "cell_type": "markdown",
   "metadata": {},
   "source": [
    "# STEP-BY-STEP for Monte Carlo for Forecast the Gold Pricing"
   ]
  },
  {
   "cell_type": "markdown",
   "metadata": {},
   "source": [
    "# Pre-requisites\n",
    "- Data source: https://huggingface.co/datasets/mltrev23/gold-price/blob/main/FINAL_USO.csv"
   ]
  },
  {
   "cell_type": "code",
   "execution_count": 5,
   "metadata": {},
   "outputs": [
    {
     "name": "stdout",
     "output_type": "stream",
     "text": [
      "Requirement already satisfied: pandas in /Users/natthawatboonchaiseree/.pyenv/versions/3.8.19/lib/python3.8/site-packages (2.0.3)\n",
      "Requirement already satisfied: numpy in /Users/natthawatboonchaiseree/.pyenv/versions/3.8.19/lib/python3.8/site-packages (1.24.4)\n",
      "Requirement already satisfied: matplotlib in /Users/natthawatboonchaiseree/.pyenv/versions/3.8.19/lib/python3.8/site-packages (3.7.5)\n",
      "Requirement already satisfied: python-dateutil>=2.8.2 in /Users/natthawatboonchaiseree/.local/lib/python3.8/site-packages (from pandas) (2.9.0.post0)\n",
      "Requirement already satisfied: pytz>=2020.1 in /Users/natthawatboonchaiseree/.pyenv/versions/3.8.19/lib/python3.8/site-packages (from pandas) (2024.2)\n",
      "Requirement already satisfied: tzdata>=2022.1 in /Users/natthawatboonchaiseree/.pyenv/versions/3.8.19/lib/python3.8/site-packages (from pandas) (2024.2)\n",
      "Requirement already satisfied: contourpy>=1.0.1 in /Users/natthawatboonchaiseree/.pyenv/versions/3.8.19/lib/python3.8/site-packages (from matplotlib) (1.1.1)\n",
      "Requirement already satisfied: cycler>=0.10 in /Users/natthawatboonchaiseree/.pyenv/versions/3.8.19/lib/python3.8/site-packages (from matplotlib) (0.12.1)\n",
      "Requirement already satisfied: fonttools>=4.22.0 in /Users/natthawatboonchaiseree/.pyenv/versions/3.8.19/lib/python3.8/site-packages (from matplotlib) (4.54.1)\n",
      "Requirement already satisfied: kiwisolver>=1.0.1 in /Users/natthawatboonchaiseree/.pyenv/versions/3.8.19/lib/python3.8/site-packages (from matplotlib) (1.4.7)\n",
      "Requirement already satisfied: packaging>=20.0 in /Users/natthawatboonchaiseree/.local/lib/python3.8/site-packages (from matplotlib) (24.1)\n",
      "Requirement already satisfied: pillow>=6.2.0 in /Users/natthawatboonchaiseree/.pyenv/versions/3.8.19/lib/python3.8/site-packages (from matplotlib) (10.4.0)\n",
      "Requirement already satisfied: pyparsing>=2.3.1 in /Users/natthawatboonchaiseree/.pyenv/versions/3.8.19/lib/python3.8/site-packages (from matplotlib) (3.1.4)\n",
      "Requirement already satisfied: importlib-resources>=3.2.0 in /Users/natthawatboonchaiseree/.pyenv/versions/3.8.19/lib/python3.8/site-packages (from matplotlib) (6.4.5)\n",
      "Requirement already satisfied: zipp>=3.1.0 in /Users/natthawatboonchaiseree/.local/lib/python3.8/site-packages (from importlib-resources>=3.2.0->matplotlib) (3.20.2)\n",
      "Requirement already satisfied: six>=1.5 in /Users/natthawatboonchaiseree/.local/lib/python3.8/site-packages (from python-dateutil>=2.8.2->pandas) (1.16.0)\n",
      "Note: you may need to restart the kernel to use updated packages.\n"
     ]
    }
   ],
   "source": [
    "%pip install pandas numpy matplotlib"
   ]
  },
  {
   "cell_type": "markdown",
   "metadata": {},
   "source": [
    "# Step 1: Import Libraries\n",
    "\n",
    "Open a new code cell and run the following code to import necessary libraries:"
   ]
  },
  {
   "cell_type": "code",
   "execution_count": 6,
   "metadata": {},
   "outputs": [],
   "source": [
    "import pandas as pd\n",
    "import numpy as np\n",
    "import matplotlib.pyplot as plt"
   ]
  },
  {
   "cell_type": "markdown",
   "metadata": {},
   "source": [
    "# Step 2: Load the Dataset\n",
    "\n",
    "Upload your FINAL_USO.csv dataset to the same directory as your notebook file. In a new cell, load and preview the data:"
   ]
  },
  {
   "cell_type": "code",
   "execution_count": 7,
   "metadata": {},
   "outputs": [
    {
     "data": {
      "text/html": [
       "<div>\n",
       "<style scoped>\n",
       "    .dataframe tbody tr th:only-of-type {\n",
       "        vertical-align: middle;\n",
       "    }\n",
       "\n",
       "    .dataframe tbody tr th {\n",
       "        vertical-align: top;\n",
       "    }\n",
       "\n",
       "    .dataframe thead th {\n",
       "        text-align: right;\n",
       "    }\n",
       "</style>\n",
       "<table border=\"1\" class=\"dataframe\">\n",
       "  <thead>\n",
       "    <tr style=\"text-align: right;\">\n",
       "      <th></th>\n",
       "      <th>Date</th>\n",
       "      <th>Open</th>\n",
       "      <th>High</th>\n",
       "      <th>Low</th>\n",
       "      <th>Close</th>\n",
       "      <th>Adj Close</th>\n",
       "      <th>Volume</th>\n",
       "      <th>SP_open</th>\n",
       "      <th>SP_high</th>\n",
       "      <th>SP_low</th>\n",
       "      <th>...</th>\n",
       "      <th>GDX_Low</th>\n",
       "      <th>GDX_Close</th>\n",
       "      <th>GDX_Adj Close</th>\n",
       "      <th>GDX_Volume</th>\n",
       "      <th>USO_Open</th>\n",
       "      <th>USO_High</th>\n",
       "      <th>USO_Low</th>\n",
       "      <th>USO_Close</th>\n",
       "      <th>USO_Adj Close</th>\n",
       "      <th>USO_Volume</th>\n",
       "    </tr>\n",
       "  </thead>\n",
       "  <tbody>\n",
       "    <tr>\n",
       "      <th>0</th>\n",
       "      <td>2011-12-15</td>\n",
       "      <td>154.740005</td>\n",
       "      <td>154.949997</td>\n",
       "      <td>151.710007</td>\n",
       "      <td>152.330002</td>\n",
       "      <td>152.330002</td>\n",
       "      <td>21521900</td>\n",
       "      <td>123.029999</td>\n",
       "      <td>123.199997</td>\n",
       "      <td>121.989998</td>\n",
       "      <td>...</td>\n",
       "      <td>51.570000</td>\n",
       "      <td>51.680000</td>\n",
       "      <td>48.973877</td>\n",
       "      <td>20605600</td>\n",
       "      <td>36.900002</td>\n",
       "      <td>36.939999</td>\n",
       "      <td>36.049999</td>\n",
       "      <td>36.130001</td>\n",
       "      <td>36.130001</td>\n",
       "      <td>12616700</td>\n",
       "    </tr>\n",
       "    <tr>\n",
       "      <th>1</th>\n",
       "      <td>2011-12-16</td>\n",
       "      <td>154.309998</td>\n",
       "      <td>155.369995</td>\n",
       "      <td>153.899994</td>\n",
       "      <td>155.229996</td>\n",
       "      <td>155.229996</td>\n",
       "      <td>18124300</td>\n",
       "      <td>122.230003</td>\n",
       "      <td>122.949997</td>\n",
       "      <td>121.300003</td>\n",
       "      <td>...</td>\n",
       "      <td>52.040001</td>\n",
       "      <td>52.680000</td>\n",
       "      <td>49.921513</td>\n",
       "      <td>16285400</td>\n",
       "      <td>36.180000</td>\n",
       "      <td>36.500000</td>\n",
       "      <td>35.730000</td>\n",
       "      <td>36.270000</td>\n",
       "      <td>36.270000</td>\n",
       "      <td>12578800</td>\n",
       "    </tr>\n",
       "    <tr>\n",
       "      <th>2</th>\n",
       "      <td>2011-12-19</td>\n",
       "      <td>155.479996</td>\n",
       "      <td>155.860001</td>\n",
       "      <td>154.360001</td>\n",
       "      <td>154.869995</td>\n",
       "      <td>154.869995</td>\n",
       "      <td>12547200</td>\n",
       "      <td>122.059998</td>\n",
       "      <td>122.320000</td>\n",
       "      <td>120.029999</td>\n",
       "      <td>...</td>\n",
       "      <td>51.029999</td>\n",
       "      <td>51.169998</td>\n",
       "      <td>48.490578</td>\n",
       "      <td>15120200</td>\n",
       "      <td>36.389999</td>\n",
       "      <td>36.450001</td>\n",
       "      <td>35.930000</td>\n",
       "      <td>36.200001</td>\n",
       "      <td>36.200001</td>\n",
       "      <td>7418200</td>\n",
       "    </tr>\n",
       "    <tr>\n",
       "      <th>3</th>\n",
       "      <td>2011-12-20</td>\n",
       "      <td>156.820007</td>\n",
       "      <td>157.429993</td>\n",
       "      <td>156.580002</td>\n",
       "      <td>156.979996</td>\n",
       "      <td>156.979996</td>\n",
       "      <td>9136300</td>\n",
       "      <td>122.180000</td>\n",
       "      <td>124.139999</td>\n",
       "      <td>120.370003</td>\n",
       "      <td>...</td>\n",
       "      <td>52.369999</td>\n",
       "      <td>52.990002</td>\n",
       "      <td>50.215282</td>\n",
       "      <td>11644900</td>\n",
       "      <td>37.299999</td>\n",
       "      <td>37.610001</td>\n",
       "      <td>37.220001</td>\n",
       "      <td>37.560001</td>\n",
       "      <td>37.560001</td>\n",
       "      <td>10041600</td>\n",
       "    </tr>\n",
       "    <tr>\n",
       "      <th>4</th>\n",
       "      <td>2011-12-21</td>\n",
       "      <td>156.979996</td>\n",
       "      <td>157.529999</td>\n",
       "      <td>156.130005</td>\n",
       "      <td>157.160004</td>\n",
       "      <td>157.160004</td>\n",
       "      <td>11996100</td>\n",
       "      <td>123.930000</td>\n",
       "      <td>124.360001</td>\n",
       "      <td>122.750000</td>\n",
       "      <td>...</td>\n",
       "      <td>52.419998</td>\n",
       "      <td>52.959999</td>\n",
       "      <td>50.186852</td>\n",
       "      <td>8724300</td>\n",
       "      <td>37.669998</td>\n",
       "      <td>38.240002</td>\n",
       "      <td>37.520000</td>\n",
       "      <td>38.110001</td>\n",
       "      <td>38.110001</td>\n",
       "      <td>10728000</td>\n",
       "    </tr>\n",
       "  </tbody>\n",
       "</table>\n",
       "<p>5 rows × 81 columns</p>\n",
       "</div>"
      ],
      "text/plain": [
       "         Date        Open        High         Low       Close   Adj Close  \\\n",
       "0  2011-12-15  154.740005  154.949997  151.710007  152.330002  152.330002   \n",
       "1  2011-12-16  154.309998  155.369995  153.899994  155.229996  155.229996   \n",
       "2  2011-12-19  155.479996  155.860001  154.360001  154.869995  154.869995   \n",
       "3  2011-12-20  156.820007  157.429993  156.580002  156.979996  156.979996   \n",
       "4  2011-12-21  156.979996  157.529999  156.130005  157.160004  157.160004   \n",
       "\n",
       "     Volume     SP_open     SP_high      SP_low  ...    GDX_Low  GDX_Close  \\\n",
       "0  21521900  123.029999  123.199997  121.989998  ...  51.570000  51.680000   \n",
       "1  18124300  122.230003  122.949997  121.300003  ...  52.040001  52.680000   \n",
       "2  12547200  122.059998  122.320000  120.029999  ...  51.029999  51.169998   \n",
       "3   9136300  122.180000  124.139999  120.370003  ...  52.369999  52.990002   \n",
       "4  11996100  123.930000  124.360001  122.750000  ...  52.419998  52.959999   \n",
       "\n",
       "   GDX_Adj Close  GDX_Volume   USO_Open   USO_High    USO_Low  USO_Close  \\\n",
       "0      48.973877    20605600  36.900002  36.939999  36.049999  36.130001   \n",
       "1      49.921513    16285400  36.180000  36.500000  35.730000  36.270000   \n",
       "2      48.490578    15120200  36.389999  36.450001  35.930000  36.200001   \n",
       "3      50.215282    11644900  37.299999  37.610001  37.220001  37.560001   \n",
       "4      50.186852     8724300  37.669998  38.240002  37.520000  38.110001   \n",
       "\n",
       "   USO_Adj Close  USO_Volume  \n",
       "0      36.130001    12616700  \n",
       "1      36.270000    12578800  \n",
       "2      36.200001     7418200  \n",
       "3      37.560001    10041600  \n",
       "4      38.110001    10728000  \n",
       "\n",
       "[5 rows x 81 columns]"
      ]
     },
     "execution_count": 7,
     "metadata": {},
     "output_type": "execute_result"
    }
   ],
   "source": [
    "# Load the dataset\n",
    "data = pd.read_csv(\"FINAL_USO.csv\")\n",
    "# Display the first few rows to understand the structure\n",
    "data.head()\n"
   ]
  },
  {
   "cell_type": "markdown",
   "metadata": {},
   "source": [
    "# Step 3: Process the Date Column and Sort Data\n",
    "\n",
    "Ensure the data is in chronological order, and convert the Date column to datetime:"
   ]
  },
  {
   "cell_type": "code",
   "execution_count": null,
   "metadata": {},
   "outputs": [],
   "source": [
    "data['Date'] = pd.to_datetime(data['Date'])\n",
    "data = data.sort_values('Date')"
   ]
  },
  {
   "cell_type": "markdown",
   "metadata": {},
   "source": [
    "# Step 4: Calculate Daily Returns\n",
    "\n",
    "Use the Adj Close column to compute daily returns, which will be the basis for the simulation:"
   ]
  },
  {
   "cell_type": "code",
   "execution_count": null,
   "metadata": {},
   "outputs": [],
   "source": [
    "data['Daily Return'] = data['Adj Close'].pct_change()\n",
    "daily_returns = data['Daily Return'].dropna()\n",
    "daily_returns.describe()  # Optional: View return stats for reference"
   ]
  },
  {
   "cell_type": "markdown",
   "metadata": {},
   "source": [
    "# Step 5: Set up Monte Carlo Simulation Parameters\n",
    "\n",
    "Define the number of simulations and the number of days to forecast (e.g., 1 year or 252 trading days):"
   ]
  },
  {
   "cell_type": "code",
   "execution_count": null,
   "metadata": {},
   "outputs": [],
   "source": [
    "num_simulations = 1000  # Number of simulation paths\n",
    "num_days = 252  # Number of trading days to forecast (1 year)\n",
    "starting_price = data['Adj Close'].iloc[-1]  # Latest adjusted close price"
   ]
  },
  {
   "cell_type": "markdown",
   "metadata": {},
   "source": [
    "# Step 6: Run Monte Carlo Simulations\n",
    "\n",
    "This loop will simulate the price paths. Each path represents a possible future price trajectory:"
   ]
  },
  {
   "cell_type": "code",
   "execution_count": null,
   "metadata": {},
   "outputs": [],
   "source": [
    "# Initialize an array to store the simulated prices\n",
    "simulated_prices = np.zeros((num_days, num_simulations))\n",
    "\n",
    "# Populate the simulated prices matrix\n",
    "for i in range(num_simulations):\n",
    "    simulated_prices[0, i] = starting_price\n",
    "    for j in range(1, num_days):\n",
    "        random_daily_return = np.random.normal(daily_returns.mean(), daily_returns.std())\n",
    "        simulated_prices[j, i] = simulated_prices[j - 1, i] * (1 + random_daily_return)\n"
   ]
  },
  {
   "cell_type": "markdown",
   "metadata": {},
   "source": [
    "# Step 7: Visualize Simulated Paths\n",
    "\n",
    "Use this code to create a plot showing the range of simulated price paths:"
   ]
  },
  {
   "cell_type": "code",
   "execution_count": null,
   "metadata": {},
   "outputs": [],
   "source": [
    "plt.figure(figsize=(14, 8))\n",
    "plt.plot(simulated_prices, linewidth=1, alpha=0.1, color=\"blue\")\n",
    "plt.title(\"Monte Carlo Simulation of Gold Prices (1 Year, 1000 Simulations)\")\n",
    "plt.xlabel(\"Days\")\n",
    "plt.ylabel(\"Simulated Gold Price\")\n",
    "plt.grid(True)\n",
    "plt.show()"
   ]
  },
  {
   "cell_type": "markdown",
   "metadata": {},
   "source": [
    "# Step 8: Analyze Expected Price Range\n",
    "\n",
    "At the end of the forecast period, calculate summary statistics for the simulated price distributions:"
   ]
  },
  {
   "cell_type": "code",
   "execution_count": null,
   "metadata": {},
   "outputs": [],
   "source": [
    "# Analyze the price distribution at the end of the forecast period\n",
    "final_prices = simulated_prices[-1, :]\n",
    "expected_price = np.mean(final_prices)\n",
    "median_price = np.median(final_prices)\n",
    "price_std_dev = np.std(final_prices)\n",
    "percentile_5th = np.percentile(final_prices, 5)\n",
    "percentile_95th = np.percentile(final_prices, 95)\n",
    "\n",
    "# Display results\n",
    "{\n",
    "    \"Expected Price (Mean)\": expected_price,\n",
    "    \"Median Price\": median_price,\n",
    "    \"Standard Deviation\": price_std_dev,\n",
    "    \"5th Percentile\": percentile_5th,\n",
    "    \"95th Percentile\": percentile_95th\n",
    "}\n"
   ]
  }
 ],
 "metadata": {
  "kernelspec": {
   "display_name": "3.8.19",
   "language": "python",
   "name": "python3"
  },
  "language_info": {
   "codemirror_mode": {
    "name": "ipython",
    "version": 3
   },
   "file_extension": ".py",
   "mimetype": "text/x-python",
   "name": "python",
   "nbconvert_exporter": "python",
   "pygments_lexer": "ipython3",
   "version": "3.8.19"
  }
 },
 "nbformat": 4,
 "nbformat_minor": 2
}
